{
 "cells": [
  {
   "cell_type": "code",
   "execution_count": 1,
   "metadata": {
    "colab": {
     "base_uri": "https://localhost:8080/",
     "height": 102
    },
    "colab_type": "code",
    "executionInfo": {
     "elapsed": 5070,
     "status": "ok",
     "timestamp": 1592098763376,
     "user": {
      "displayName": "Ageng Setya Tutuko",
      "photoUrl": "https://lh3.googleusercontent.com/a-/AOh14GgHddeaf3eATVGbftT6qGJKv2Y83Au8GHhrecWEgw=s64",
      "userId": "14191488662963929074"
     },
     "user_tz": -480
    },
    "id": "d9ZDZeNmCChv",
    "outputId": "d05a524c-4d87-451d-f2ab-193b04508d0c"
   },
   "outputs": [
    {
     "name": "stdout",
     "output_type": "stream",
     "text": [
      "Requirement already satisfied: pandas in /usr/local/lib/python3.6/dist-packages (1.0.4)\n",
      "Requirement already satisfied: numpy>=1.13.3 in /usr/local/lib/python3.6/dist-packages (from pandas) (1.18.5)\n",
      "Requirement already satisfied: python-dateutil>=2.6.1 in /usr/local/lib/python3.6/dist-packages (from pandas) (2.8.1)\n",
      "Requirement already satisfied: pytz>=2017.2 in /usr/local/lib/python3.6/dist-packages (from pandas) (2018.9)\n",
      "Requirement already satisfied: six>=1.5 in /usr/local/lib/python3.6/dist-packages (from python-dateutil>=2.6.1->pandas) (1.12.0)\n"
     ]
    }
   ],
   "source": [
    "!pip install pandas"
   ]
  },
  {
   "cell_type": "code",
   "execution_count": 0,
   "metadata": {
    "colab": {},
    "colab_type": "code",
    "id": "pgE1bqKzE06e"
   },
   "outputs": [],
   "source": [
    "import pandas as pd\n",
    "import numpy as np\n",
    "import os\n",
    "import torch\n",
    "from torch.utils.data import TensorDataset, DataLoader\n",
    "import pickle\n",
    "import torch.optim as optim\n",
    "import torch.nn as nn\n",
    "import datetime as dtm\n",
    "from collections import defaultdict\n",
    "import operator\n",
    "from itertools import islice\n",
    "import pdb\n",
    "import pprint as pp\n",
    "import pprint as pp\n",
    "from tqdm import tqdm"
   ]
  },
  {
   "cell_type": "code",
   "execution_count": 0,
   "metadata": {
    "colab": {},
    "colab_type": "code",
    "id": "jHuHS6HtN69c"
   },
   "outputs": [],
   "source": [
    "from google.colab import drive\n",
    "drive.mount('/content/drive')"
   ]
  },
  {
   "cell_type": "code",
   "execution_count": 0,
   "metadata": {
    "colab": {},
    "colab_type": "code",
    "id": "Q9RIfigWE52k"
   },
   "outputs": [],
   "source": [
    "main_path = 'drive/My Drive/Colab Notebooks/Shopee_one'"
   ]
  },
  {
   "cell_type": "code",
   "execution_count": 0,
   "metadata": {
    "colab": {},
    "colab_type": "code",
    "id": "aY1A-Hp4NYmB"
   },
   "outputs": [],
   "source": [
    "rawdf = pd.read_csv(os.path.join(main_path, 'order_brush_order.csv'))\n",
    "rawdf = rawdf.sort_values('event_time', ascending=1)"
   ]
  },
  {
   "cell_type": "code",
   "execution_count": 6,
   "metadata": {
    "colab": {
     "base_uri": "https://localhost:8080/",
     "height": 34
    },
    "colab_type": "code",
    "executionInfo": {
     "elapsed": 20080,
     "status": "ok",
     "timestamp": 1592128818128,
     "user": {
      "displayName": "Ageng Setya Tutuko",
      "photoUrl": "https://lh3.googleusercontent.com/a-/AOh14GgHddeaf3eATVGbftT6qGJKv2Y83Au8GHhrecWEgw=s64",
      "userId": "14191488662963929074"
     },
     "user_tz": -480
    },
    "id": "A51jgnoNcOON",
    "outputId": "e7ac3762-99c2-4d4d-e149-961299270356"
   },
   "outputs": [
    {
     "name": "stdout",
     "output_type": "stream",
     "text": [
      "['orderid', 'shopid', 'userid', 'event_time']\n"
     ]
    }
   ],
   "source": [
    "header_list = list(rawdf.columns.values)\n",
    "print(header_list)"
   ]
  },
  {
   "cell_type": "code",
   "execution_count": 0,
   "metadata": {
    "colab": {},
    "colab_type": "code",
    "id": "O01wTZR9PJuQ"
   },
   "outputs": [],
   "source": [
    "listof_shop_id = [rawdf.iloc[idx]['shopid'] for idx in range(len(rawdf['shopid']))]\n",
    "listof_user_id = [rawdf.iloc[idx]['userid'] for idx in range(len(rawdf['userid']))]"
   ]
  },
  {
   "cell_type": "code",
   "execution_count": 0,
   "metadata": {
    "colab": {},
    "colab_type": "code",
    "id": "hXNM9k70XOmm"
   },
   "outputs": [],
   "source": [
    "uniq_shop_id = list(set(listof_shop_id))\n",
    "uniq_user_id = list(set(listof_user_id))"
   ]
  },
  {
   "cell_type": "code",
   "execution_count": 9,
   "metadata": {
    "colab": {
     "base_uri": "https://localhost:8080/",
     "height": 51
    },
    "colab_type": "code",
    "executionInfo": {
     "elapsed": 67310,
     "status": "ok",
     "timestamp": 1592128892782,
     "user": {
      "displayName": "Ageng Setya Tutuko",
      "photoUrl": "https://lh3.googleusercontent.com/a-/AOh14GgHddeaf3eATVGbftT6qGJKv2Y83Au8GHhrecWEgw=s64",
      "userId": "14191488662963929074"
     },
     "user_tz": -480
    },
    "id": "JQz69B2e4A-P",
    "outputId": "ff982331-f216-44d4-d157-0d231cb354d6"
   },
   "outputs": [
    {
     "name": "stdout",
     "output_type": "stream",
     "text": [
      "[6042309, 104804492, 8715449, 190969466, 2859407, 94479614, 65551316, 147941492, 54615708, 127236302]\n",
      "[97707522, 97707522, 97707522, 170182475, 12532131, 12532131, 12532131, 195903090, 128755891, 128755891]\n"
     ]
    }
   ],
   "source": [
    "print(listof_shop_id[:10])\n",
    "print(listof_user_id[:10])"
   ]
  },
  {
   "cell_type": "code",
   "execution_count": 10,
   "metadata": {
    "colab": {
     "base_uri": "https://localhost:8080/",
     "height": 34
    },
    "colab_type": "code",
    "executionInfo": {
     "elapsed": 66699,
     "status": "ok",
     "timestamp": 1592128892784,
     "user": {
      "displayName": "Ageng Setya Tutuko",
      "photoUrl": "https://lh3.googleusercontent.com/a-/AOh14GgHddeaf3eATVGbftT6qGJKv2Y83Au8GHhrecWEgw=s64",
      "userId": "14191488662963929074"
     },
     "user_tz": -480
    },
    "id": "eoxHnasvXPcw",
    "outputId": "00ba3b14-44cd-46be-da8d-ad99435887c1"
   },
   "outputs": [
    {
     "data": {
      "text/plain": [
       "(18770, 222750)"
      ]
     },
     "execution_count": 10,
     "metadata": {
      "tags": []
     },
     "output_type": "execute_result"
    }
   ],
   "source": [
    "len(uniq_shop_id), len(listof_shop_id)"
   ]
  },
  {
   "cell_type": "code",
   "execution_count": 11,
   "metadata": {
    "colab": {
     "base_uri": "https://localhost:8080/",
     "height": 359
    },
    "colab_type": "code",
    "executionInfo": {
     "elapsed": 64584,
     "status": "ok",
     "timestamp": 1592128892784,
     "user": {
      "displayName": "Ageng Setya Tutuko",
      "photoUrl": "https://lh3.googleusercontent.com/a-/AOh14GgHddeaf3eATVGbftT6qGJKv2Y83Au8GHhrecWEgw=s64",
      "userId": "14191488662963929074"
     },
     "user_tz": -480
    },
    "id": "VdA1OpGWjQSL",
    "outputId": "bc67c177-8b1a-4f77-bf4f-a5251cdbaff0"
   },
   "outputs": [
    {
     "data": {
      "text/html": [
       "<div>\n",
       "<style scoped>\n",
       "    .dataframe tbody tr th:only-of-type {\n",
       "        vertical-align: middle;\n",
       "    }\n",
       "\n",
       "    .dataframe tbody tr th {\n",
       "        vertical-align: top;\n",
       "    }\n",
       "\n",
       "    .dataframe thead th {\n",
       "        text-align: right;\n",
       "    }\n",
       "</style>\n",
       "<table border=\"1\" class=\"dataframe\">\n",
       "  <thead>\n",
       "    <tr style=\"text-align: right;\">\n",
       "      <th></th>\n",
       "      <th>orderid</th>\n",
       "      <th>shopid</th>\n",
       "      <th>userid</th>\n",
       "      <th>event_time</th>\n",
       "    </tr>\n",
       "  </thead>\n",
       "  <tbody>\n",
       "    <tr>\n",
       "      <th>150060</th>\n",
       "      <td>31075200506751</td>\n",
       "      <td>6042309</td>\n",
       "      <td>97707522</td>\n",
       "      <td>2019-12-27 00:00:00</td>\n",
       "    </tr>\n",
       "    <tr>\n",
       "      <th>25985</th>\n",
       "      <td>31075200506752</td>\n",
       "      <td>104804492</td>\n",
       "      <td>97707522</td>\n",
       "      <td>2019-12-27 00:00:00</td>\n",
       "    </tr>\n",
       "    <tr>\n",
       "      <th>81020</th>\n",
       "      <td>31075200506753</td>\n",
       "      <td>8715449</td>\n",
       "      <td>97707522</td>\n",
       "      <td>2019-12-27 00:00:00</td>\n",
       "    </tr>\n",
       "    <tr>\n",
       "      <th>146598</th>\n",
       "      <td>31075201870570</td>\n",
       "      <td>190969466</td>\n",
       "      <td>170182475</td>\n",
       "      <td>2019-12-27 00:00:02</td>\n",
       "    </tr>\n",
       "    <tr>\n",
       "      <th>80355</th>\n",
       "      <td>31075205798264</td>\n",
       "      <td>2859407</td>\n",
       "      <td>12532131</td>\n",
       "      <td>2019-12-27 00:00:05</td>\n",
       "    </tr>\n",
       "    <tr>\n",
       "      <th>190853</th>\n",
       "      <td>31075205798265</td>\n",
       "      <td>94479614</td>\n",
       "      <td>12532131</td>\n",
       "      <td>2019-12-27 00:00:05</td>\n",
       "    </tr>\n",
       "    <tr>\n",
       "      <th>30633</th>\n",
       "      <td>31075205798263</td>\n",
       "      <td>65551316</td>\n",
       "      <td>12532131</td>\n",
       "      <td>2019-12-27 00:00:05</td>\n",
       "    </tr>\n",
       "    <tr>\n",
       "      <th>2338</th>\n",
       "      <td>31075208826809</td>\n",
       "      <td>147941492</td>\n",
       "      <td>195903090</td>\n",
       "      <td>2019-12-27 00:00:08</td>\n",
       "    </tr>\n",
       "    <tr>\n",
       "      <th>112662</th>\n",
       "      <td>31075207143538</td>\n",
       "      <td>54615708</td>\n",
       "      <td>128755891</td>\n",
       "      <td>2019-12-27 00:00:08</td>\n",
       "    </tr>\n",
       "    <tr>\n",
       "      <th>87378</th>\n",
       "      <td>31075207143537</td>\n",
       "      <td>127236302</td>\n",
       "      <td>128755891</td>\n",
       "      <td>2019-12-27 00:00:08</td>\n",
       "    </tr>\n",
       "  </tbody>\n",
       "</table>\n",
       "</div>"
      ],
      "text/plain": [
       "               orderid     shopid     userid           event_time\n",
       "150060  31075200506751    6042309   97707522  2019-12-27 00:00:00\n",
       "25985   31075200506752  104804492   97707522  2019-12-27 00:00:00\n",
       "81020   31075200506753    8715449   97707522  2019-12-27 00:00:00\n",
       "146598  31075201870570  190969466  170182475  2019-12-27 00:00:02\n",
       "80355   31075205798264    2859407   12532131  2019-12-27 00:00:05\n",
       "190853  31075205798265   94479614   12532131  2019-12-27 00:00:05\n",
       "30633   31075205798263   65551316   12532131  2019-12-27 00:00:05\n",
       "2338    31075208826809  147941492  195903090  2019-12-27 00:00:08\n",
       "112662  31075207143538   54615708  128755891  2019-12-27 00:00:08\n",
       "87378   31075207143537  127236302  128755891  2019-12-27 00:00:08"
      ]
     },
     "execution_count": 11,
     "metadata": {
      "tags": []
     },
     "output_type": "execute_result"
    }
   ],
   "source": [
    "rawdf.head(10)"
   ]
  },
  {
   "cell_type": "code",
   "execution_count": 0,
   "metadata": {
    "colab": {},
    "colab_type": "code",
    "id": "P2kXrRg3Nk9E"
   },
   "outputs": [],
   "source": [
    "shop_records = {s : {h : [] for h in header_list} for s in uniq_shop_id}"
   ]
  },
  {
   "cell_type": "code",
   "execution_count": 13,
   "metadata": {
    "colab": {
     "base_uri": "https://localhost:8080/",
     "height": 51
    },
    "colab_type": "code",
    "executionInfo": {
     "elapsed": 577981,
     "status": "ok",
     "timestamp": 1592129493019,
     "user": {
      "displayName": "Ageng Setya Tutuko",
      "photoUrl": "https://lh3.googleusercontent.com/a-/AOh14GgHddeaf3eATVGbftT6qGJKv2Y83Au8GHhrecWEgw=s64",
      "userId": "14191488662963929074"
     },
     "user_tz": -480
    },
    "id": "tR0aFOKI9hoE",
    "outputId": "137fd148-cc38-4dc9-c730-f055c6848f5f"
   },
   "outputs": [
    {
     "name": "stderr",
     "output_type": "stream",
     "text": [
      "100%|██████████| 222750/222750 [09:37<00:00, 385.92it/s]"
     ]
    },
    {
     "name": "stdout",
     "output_type": "stream",
     "text": [
      "[datetime.datetime(2019, 12, 27, 0, 0), datetime.datetime(2019, 12, 31, 23, 59, 56)]\n"
     ]
    },
    {
     "name": "stderr",
     "output_type": "stream",
     "text": [
      "\n"
     ]
    }
   ],
   "source": [
    "\"\"\" To get a dictionary with unique shopids as keys and their activities (orders with corresponding buyer, and eventime which are also in dictionary container)\"\"\"\n",
    "\n",
    "\n",
    "# stopper = 10\n",
    "min_event = dtm.datetime.strptime(rawdf.iloc[0]['event_time'],\"%Y-%m-%d %H:%M:%S\")\n",
    "max_event = dtm.datetime.strptime(rawdf.iloc[0]['event_time'],\"%Y-%m-%d %H:%M:%S\")\n",
    "\n",
    "for idx in tqdm(range(len(rawdf))):\n",
    "  for h in header_list:\n",
    "    if h == 'event_time':\n",
    "      shop_records[rawdf.iloc[idx]['shopid']][h] = shop_records[rawdf.iloc[idx]['shopid']][h] + [dtm.datetime.strptime(rawdf.iloc[idx]['event_time'],\"%Y-%m-%d %H:%M:%S\")]\n",
    "      if min_event > shop_records[rawdf.iloc[idx]['shopid']][h][-1]:\n",
    "        min_event = shop_records[rawdf.iloc[idx]['shopid']][h][-1]\n",
    "      if max_event < shop_records[rawdf.iloc[idx]['shopid']][h][-1]:\n",
    "        max_event = shop_records[rawdf.iloc[idx]['shopid']][h][-1]\n",
    "    else:\n",
    "      shop_records[rawdf.iloc[idx]['shopid']][h] = shop_records[rawdf.iloc[idx]['shopid']][h] + [str(rawdf.iloc[idx][h])]\n",
    "  # stopper -= 1\n",
    "  # pp.pprint(shop_records[rawdf.iloc[idx]['shopid']])\n",
    "  # if stopper < 1:\n",
    "  #   break\n",
    "\n",
    "# del stopper\n",
    "print([i for i in (min_event, max_event)])"
   ]
  },
  {
   "cell_type": "code",
   "execution_count": 0,
   "metadata": {
    "colab": {},
    "colab_type": "code",
    "id": "vWHuhrJx39_Y"
   },
   "outputs": [],
   "source": [
    "# Only work for list of datetime objects with ordered from earliest to latest, see csv panda.dataframe sorting script in cell \n",
    "def min_max_datetime(event_list: list):\n",
    "  in_range = True\n",
    "  one_hour_idxs = []\n",
    "  temp_hour = []\n",
    "  event_start = event_list[0]\n",
    "  event_end = event_list[-1]\n",
    "  if len(event_list) < 3:\n",
    "    in_range = False\n",
    "  if in_range:\n",
    "    for idx0, timestamp in enumerate(event_list):\n",
    "      for idx1, endstamp in enumerate(event_list[idx0 + 1:]):\n",
    "        # pdb.set_trace()\n",
    "        if ((endstamp - timestamp).total_seconds() >= 3600):\n",
    "          if idx0 != idx0 + idx1 and idx1 > 1:\n",
    "            temp_hour = [(idx0, idx0 + idx1)]\n",
    "          if len(one_hour_idxs) > 0 and len(temp_hour) != 0:\n",
    "            if one_hour_idxs[-1][-1] == temp_hour[-1][-1]:\n",
    "              temp_hour = []\n",
    "          break\n",
    "      if len(temp_hour) == 0 and (idx1 + idx0 + 2 == len(event_list)) and len(event_list) - idx0 > 2:\n",
    "        temp_hour = temp_hour + [(idx0, len(event_list) - 1)]\n",
    "        if temp_hour[0][-1] - temp_hour[0][0] + 1 > 2:\n",
    "          one_hour_idxs = one_hour_idxs + temp_hour\n",
    "        break\n",
    "      one_hour_idxs = one_hour_idxs + temp_hour\n",
    "      temp_hour = []\n",
    "  if len(one_hour_idxs) == 0 and in_range:\n",
    "    if len(event_list) > 2:\n",
    "          one_hour_idxs = one_hour_idxs + [(0, len(event_list) - 1)]\n",
    "  return one_hour_idxs, in_range"
   ]
  },
  {
   "cell_type": "code",
   "execution_count": 0,
   "metadata": {
    "colab": {},
    "colab_type": "code",
    "id": "MG2KV8W5DUQu"
   },
   "outputs": [],
   "source": [
    "# Only works for this problem with the keys of dict using original csv column headers in codecell #5\n",
    "def cheater_checker(shop: dict):\n",
    "  \"\"\" To determine if a uniqe shop is a cheater and find the corresponding buyer that boost the sales\"\"\"\n",
    "  check_idxs, go_check = min_max_datetime(shop['event_time'])\n",
    "  suspect_buyer = '&0'\n",
    "  for ids in check_idxs:\n",
    "    uniq_buy_hourly = list(set(shop['userid'][ids[0]:ids[1] + 1]))\n",
    "    buyer_list_hourly = shop['userid'][ids[0]:ids[1] + 1]\n",
    "    if len(buyer_list_hourly)/len(uniq_buy_hourly) >= 3.0:\n",
    "      suspect_buyer = '&'.join([suspect_buyer, str(max(buyer_list_hourly, key=buyer_list_hourly.count))])\n",
    "  return suspect_buyer[3:] if len(suspect_buyer) > 2 else suspect_buyer[1]"
   ]
  },
  {
   "cell_type": "code",
   "execution_count": 86,
   "metadata": {
    "colab": {
     "base_uri": "https://localhost:8080/",
     "height": 34
    },
    "colab_type": "code",
    "executionInfo": {
     "elapsed": 2604,
     "status": "ok",
     "timestamp": 1592133813815,
     "user": {
      "displayName": "Ageng Setya Tutuko",
      "photoUrl": "https://lh3.googleusercontent.com/a-/AOh14GgHddeaf3eATVGbftT6qGJKv2Y83Au8GHhrecWEgw=s64",
      "userId": "14191488662963929074"
     },
     "user_tz": -480
    },
    "id": "MXZ1yLS6Cmhi",
    "outputId": "af8385c9-8cee-448e-ea94-2cdc6f326a16"
   },
   "outputs": [
    {
     "name": "stderr",
     "output_type": "stream",
     "text": [
      "100%|██████████| 18770/18770 [00:01<00:00, 10750.72it/s]\n"
     ]
    }
   ],
   "source": [
    "shop_final_data = {s : '' for s in uniq_shop_id}\n",
    "for i in tqdm(range(int(len(uniq_shop_id)))):\n",
    "  shop_final_data[uniq_shop_id[i]] = cheater_checker(shop_records[uniq_shop_id[i]])"
   ]
  },
  {
   "cell_type": "code",
   "execution_count": 0,
   "metadata": {
    "colab": {},
    "colab_type": "code",
    "id": "zY38q6Y34QoW"
   },
   "outputs": [],
   "source": [
    "submission = pd.DataFrame(data={'shopid': list(shop_final_data.keys()),\n",
    "                                'userid': list(shop_final_data.values())})"
   ]
  },
  {
   "cell_type": "code",
   "execution_count": 0,
   "metadata": {
    "colab": {},
    "colab_type": "code",
    "id": "N_ybiSoG4Q1r"
   },
   "outputs": [],
   "source": [
    "submission.to_csv(path_or_buf=os.path.join(main_path, 'submission.csv'), index=False)"
   ]
  },
  {
   "cell_type": "code",
   "execution_count": 0,
   "metadata": {
    "colab": {},
    "colab_type": "code",
    "id": "IkZkdzAjCk9n"
   },
   "outputs": [],
   "source": [
    "asutest = {'event_time': [dtm.datetime(2019, 12, 29, 20, 37, 35),\n",
    "                          dtm.datetime(2019, 12, 29, 20, 38, 56),\n",
    "                          dtm.datetime(2019, 12, 29, 20, 39, 50),\n",
    "                          dtm.datetime(2019, 12, 29, 20, 40, 10),\n",
    "                          dtm.datetime(2019, 12, 29, 20, 41, 39),\n",
    "                          dtm.datetime(2019, 12, 29, 20, 42, 39),\n",
    "                          dtm.datetime(2019, 12, 29, 20, 43, 39),\n",
    "                          dtm.datetime(2019, 12, 29, 20, 44, 39)],\n",
    "           'orderid': [0,1,2,3,4,5,6,7],\n",
    "           'shopid': [69696969]*len([0,1,2,3,4,5,6,7]),\n",
    "           'userid': ['fak1']*len([0,1,2]) + ['fak2']*len([3,4,5,6,7])}\n",
    "\n",
    "asutest2 = {'event_time': [dtm.datetime(2019, 12, 29, 20, 37, 35),\n",
    "                          dtm.datetime(2019, 12, 29, 20, 38, 56),\n",
    "                          dtm.datetime(2019, 12, 29, 20, 39, 50),\n",
    "                          dtm.datetime(2019, 12, 29, 20, 40, 10),\n",
    "                          dtm.datetime(2019, 12, 29, 20, 41, 39),\n",
    "                          dtm.datetime(2019, 12, 31, 20, 42, 39),\n",
    "                          dtm.datetime(2019, 12, 31, 20, 43, 39),\n",
    "                          dtm.datetime(2019, 12, 31, 20, 44, 39)],\n",
    "           'orderid': [0,1,2,3,4,5,6,7],\n",
    "           'shopid': [69696969]*len([0,1,2,3,4,5,6,7]),\n",
    "           'userid': ['fak1']*len([0,1,2]) + ['fak2']*len([3,4]) + ['fak3']*len([5,6,7])}"
   ]
  },
  {
   "cell_type": "code",
   "execution_count": 114,
   "metadata": {
    "colab": {
     "base_uri": "https://localhost:8080/",
     "height": 34
    },
    "colab_type": "code",
    "executionInfo": {
     "elapsed": 708,
     "status": "ok",
     "timestamp": 1592134405012,
     "user": {
      "displayName": "Ageng Setya Tutuko",
      "photoUrl": "https://lh3.googleusercontent.com/a-/AOh14GgHddeaf3eATVGbftT6qGJKv2Y83Au8GHhrecWEgw=s64",
      "userId": "14191488662963929074"
     },
     "user_tz": -480
    },
    "id": "qb3zz_8H-L-i",
    "outputId": "c197280f-ec05-43a0-dd19-2f0c08a13cdc"
   },
   "outputs": [
    {
     "data": {
      "text/plain": [
       "'fak2'"
      ]
     },
     "execution_count": 114,
     "metadata": {
      "tags": []
     },
     "output_type": "execute_result"
    }
   ],
   "source": [
    "cheater_checker(asutest)"
   ]
  },
  {
   "cell_type": "code",
   "execution_count": 115,
   "metadata": {
    "colab": {
     "base_uri": "https://localhost:8080/",
     "height": 34
    },
    "colab_type": "code",
    "executionInfo": {
     "elapsed": 844,
     "status": "ok",
     "timestamp": 1592134417754,
     "user": {
      "displayName": "Ageng Setya Tutuko",
      "photoUrl": "https://lh3.googleusercontent.com/a-/AOh14GgHddeaf3eATVGbftT6qGJKv2Y83Au8GHhrecWEgw=s64",
      "userId": "14191488662963929074"
     },
     "user_tz": -480
    },
    "id": "32txaT0pmu-I",
    "outputId": "c8e75a6e-b34c-45a3-c312-32125f50312b"
   },
   "outputs": [
    {
     "data": {
      "text/plain": [
       "'fak3'"
      ]
     },
     "execution_count": 115,
     "metadata": {
      "tags": []
     },
     "output_type": "execute_result"
    }
   ],
   "source": [
    "cheater_checker(asutest2)"
   ]
  }
 ],
 "metadata": {
  "colab": {
   "authorship_tag": "ABX9TyPS6rFScyiiNjp2RzQQiH6W",
   "collapsed_sections": [],
   "machine_shape": "hm",
   "name": "order_brush.ipynb",
   "provenance": []
  },
  "kernelspec": {
   "display_name": "Python 3",
   "language": "python",
   "name": "python3"
  },
  "language_info": {
   "codemirror_mode": {
    "name": "ipython",
    "version": 3
   },
   "file_extension": ".py",
   "mimetype": "text/x-python",
   "name": "python",
   "nbconvert_exporter": "python",
   "pygments_lexer": "ipython3",
   "version": "3.7.7"
  }
 },
 "nbformat": 4,
 "nbformat_minor": 1
}
